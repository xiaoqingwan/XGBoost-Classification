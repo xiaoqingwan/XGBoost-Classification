{
 "cells": [
  {
   "cell_type": "markdown",
   "metadata": {},
   "source": [
    "# Predict Internet Use via XGBoost"
   ]
  },
  {
   "cell_type": "markdown",
   "metadata": {},
   "source": [
    "- **[Loaded the Data From a File](#download-the-data)**\n",
    "\n",
    "- **[Formatted the Data for XGBoost using One-Hot Encoding](#one-hot-encoding)**\n",
    "\n",
    "- **[Built an XGBoost Model for Classification](#build-tree)**\n",
    "\n",
    "- **[Optimize the XGBoost Parameters with Cross Validation and GridSearch()](#prune-tree)**\n",
    "\n",
    "- **[Built, Drew, Interpreted and Evaluated the Optimized XGBoost Model](#draw-tree)**"
   ]
  },
  {
   "cell_type": "markdown",
   "metadata": {},
   "source": [
    "# Import the modules\n"
   ]
  },
  {
   "cell_type": "code",
   "execution_count": 2,
   "metadata": {},
   "outputs": [],
   "source": [
    "import pandas as pd # load and manipulate data and for One-Hot Encoding\n",
    "import numpy as np # calculate the mean and standard deviation\n",
    "import xgboost as xgb # XGBoost stuff\n",
    "from sklearn.model_selection import train_test_split # split  data into training and testing sets\n",
    "from sklearn.metrics import balanced_accuracy_score, roc_auc_score, make_scorer # for scoring during cross validation\n",
    "from sklearn.model_selection import GridSearchCV # cross validation\n",
    "from sklearn.metrics import confusion_matrix # creates a confusion matrix\n",
    "from sklearn.metrics import plot_confusion_matrix # draws a confusion matrix"
   ]
  },
  {
   "cell_type": "markdown",
   "metadata": {},
   "source": [
    "----"
   ]
  },
  {
   "cell_type": "markdown",
   "metadata": {},
   "source": [
    "<a id=\"download-the-data\"></a>\n",
    "# Import the data\n",
    "\n",
    "This dataset has been cleaned previously in R. \n",
    "\n",
    "These things were done:\n",
    "1. remove columns with more than 10% NA\n",
    "2. remove character columns\n",
    "3. remove id columns and the likes\n",
    "4. delete values like 9999 and 9998, which are \"Refused\" and \"Don't Know/ NA\"\n",
    "5. remove participants with missing outcome\n",
    "6. remove variables with near zero variance"
   ]
  },
  {
   "cell_type": "code",
   "execution_count": 3,
   "metadata": {},
   "outputs": [
    {
     "data": {
      "text/html": [
       "<div>\n",
       "<style scoped>\n",
       "    .dataframe tbody tr th:only-of-type {\n",
       "        vertical-align: middle;\n",
       "    }\n",
       "\n",
       "    .dataframe tbody tr th {\n",
       "        vertical-align: top;\n",
       "    }\n",
       "\n",
       "    .dataframe thead th {\n",
       "        text-align: right;\n",
       "    }\n",
       "</style>\n",
       "<table border=\"1\" class=\"dataframe\">\n",
       "  <thead>\n",
       "    <tr style=\"text-align: right;\">\n",
       "      <th></th>\n",
       "      <th>PA009</th>\n",
       "      <th>PA012</th>\n",
       "      <th>PA019</th>\n",
       "      <th>PA028</th>\n",
       "      <th>PA099</th>\n",
       "      <th>PA100</th>\n",
       "      <th>PA101</th>\n",
       "      <th>PA106</th>\n",
       "      <th>PA113</th>\n",
       "      <th>PVDATE</th>\n",
       "      <th>...</th>\n",
       "      <th>PJF478</th>\n",
       "      <th>PQR012</th>\n",
       "      <th>PQR010</th>\n",
       "      <th>PQR011</th>\n",
       "      <th>PJR478A</th>\n",
       "      <th>PF_CPL</th>\n",
       "      <th>PQ488_1A</th>\n",
       "      <th>PQ488_2A</th>\n",
       "      <th>PQ488_3A</th>\n",
       "      <th>COHORT</th>\n",
       "    </tr>\n",
       "  </thead>\n",
       "  <tbody>\n",
       "    <tr>\n",
       "      <td>0</td>\n",
       "      <td>1</td>\n",
       "      <td>1</td>\n",
       "      <td>76</td>\n",
       "      <td>5</td>\n",
       "      <td>0</td>\n",
       "      <td>0</td>\n",
       "      <td>0</td>\n",
       "      <td>0</td>\n",
       "      <td>0</td>\n",
       "      <td>3</td>\n",
       "      <td>...</td>\n",
       "      <td>1.0</td>\n",
       "      <td>5.0</td>\n",
       "      <td>5.0</td>\n",
       "      <td>5.0</td>\n",
       "      <td>1.0</td>\n",
       "      <td>0</td>\n",
       "      <td>0.0</td>\n",
       "      <td>0.0</td>\n",
       "      <td>0.0</td>\n",
       "      <td>3</td>\n",
       "    </tr>\n",
       "    <tr>\n",
       "      <td>1</td>\n",
       "      <td>1</td>\n",
       "      <td>1</td>\n",
       "      <td>60</td>\n",
       "      <td>5</td>\n",
       "      <td>0</td>\n",
       "      <td>0</td>\n",
       "      <td>0</td>\n",
       "      <td>0</td>\n",
       "      <td>0</td>\n",
       "      <td>2</td>\n",
       "      <td>...</td>\n",
       "      <td>1.0</td>\n",
       "      <td>5.0</td>\n",
       "      <td>5.0</td>\n",
       "      <td>5.0</td>\n",
       "      <td>1.0</td>\n",
       "      <td>0</td>\n",
       "      <td>NaN</td>\n",
       "      <td>0.0</td>\n",
       "      <td>0.0</td>\n",
       "      <td>3</td>\n",
       "    </tr>\n",
       "    <tr>\n",
       "      <td>2</td>\n",
       "      <td>1</td>\n",
       "      <td>1</td>\n",
       "      <td>70</td>\n",
       "      <td>5</td>\n",
       "      <td>0</td>\n",
       "      <td>2</td>\n",
       "      <td>2</td>\n",
       "      <td>2</td>\n",
       "      <td>4</td>\n",
       "      <td>3</td>\n",
       "      <td>...</td>\n",
       "      <td>1.0</td>\n",
       "      <td>5.0</td>\n",
       "      <td>5.0</td>\n",
       "      <td>5.0</td>\n",
       "      <td>1.0</td>\n",
       "      <td>0</td>\n",
       "      <td>0.0</td>\n",
       "      <td>0.0</td>\n",
       "      <td>0.0</td>\n",
       "      <td>3</td>\n",
       "    </tr>\n",
       "    <tr>\n",
       "      <td>3</td>\n",
       "      <td>1</td>\n",
       "      <td>1</td>\n",
       "      <td>68</td>\n",
       "      <td>5</td>\n",
       "      <td>0</td>\n",
       "      <td>1</td>\n",
       "      <td>1</td>\n",
       "      <td>1</td>\n",
       "      <td>2</td>\n",
       "      <td>2</td>\n",
       "      <td>...</td>\n",
       "      <td>1.0</td>\n",
       "      <td>5.0</td>\n",
       "      <td>5.0</td>\n",
       "      <td>5.0</td>\n",
       "      <td>1.0</td>\n",
       "      <td>0</td>\n",
       "      <td>0.0</td>\n",
       "      <td>0.0</td>\n",
       "      <td>0.0</td>\n",
       "      <td>3</td>\n",
       "    </tr>\n",
       "    <tr>\n",
       "      <td>4</td>\n",
       "      <td>1</td>\n",
       "      <td>1</td>\n",
       "      <td>79</td>\n",
       "      <td>5</td>\n",
       "      <td>0</td>\n",
       "      <td>2</td>\n",
       "      <td>2</td>\n",
       "      <td>2</td>\n",
       "      <td>4</td>\n",
       "      <td>2</td>\n",
       "      <td>...</td>\n",
       "      <td>1.0</td>\n",
       "      <td>5.0</td>\n",
       "      <td>5.0</td>\n",
       "      <td>5.0</td>\n",
       "      <td>1.0</td>\n",
       "      <td>1</td>\n",
       "      <td>0.0</td>\n",
       "      <td>0.0</td>\n",
       "      <td>0.0</td>\n",
       "      <td>3</td>\n",
       "    </tr>\n",
       "  </tbody>\n",
       "</table>\n",
       "<p>5 rows × 315 columns</p>\n",
       "</div>"
      ],
      "text/plain": [
       "   PA009  PA012  PA019  PA028  PA099  PA100  PA101  PA106  PA113  PVDATE  ...  \\\n",
       "0      1      1     76      5      0      0      0      0      0       3  ...   \n",
       "1      1      1     60      5      0      0      0      0      0       2  ...   \n",
       "2      1      1     70      5      0      2      2      2      4       3  ...   \n",
       "3      1      1     68      5      0      1      1      1      2       2  ...   \n",
       "4      1      1     79      5      0      2      2      2      4       2  ...   \n",
       "\n",
       "   PJF478  PQR012  PQR010  PQR011  PJR478A  PF_CPL  PQ488_1A  PQ488_2A  \\\n",
       "0     1.0     5.0     5.0     5.0      1.0       0       0.0       0.0   \n",
       "1     1.0     5.0     5.0     5.0      1.0       0       NaN       0.0   \n",
       "2     1.0     5.0     5.0     5.0      1.0       0       0.0       0.0   \n",
       "3     1.0     5.0     5.0     5.0      1.0       0       0.0       0.0   \n",
       "4     1.0     5.0     5.0     5.0      1.0       1       0.0       0.0   \n",
       "\n",
       "   PQ488_3A  COHORT  \n",
       "0       0.0       3  \n",
       "1       0.0       3  \n",
       "2       0.0       3  \n",
       "3       0.0       3  \n",
       "4       0.0       3  \n",
       "\n",
       "[5 rows x 315 columns]"
      ]
     },
     "execution_count": 3,
     "metadata": {},
     "output_type": "execute_result"
    }
   ],
   "source": [
    "df = pd.read_csv('h16f2a_cleaned_010221.csv')\n",
    "df.head()"
   ]
  },
  {
   "cell_type": "markdown",
   "metadata": {},
   "source": [
    "\n",
    "----"
   ]
  },
  {
   "cell_type": "markdown",
   "metadata": {},
   "source": [
    "<a id=\"format-the-data\"></a>\n",
    "# Split the Data into Dependent and Independent Variables\n"
   ]
  },
  {
   "cell_type": "code",
   "execution_count": 4,
   "metadata": {},
   "outputs": [
    {
     "data": {
      "text/html": [
       "<div>\n",
       "<style scoped>\n",
       "    .dataframe tbody tr th:only-of-type {\n",
       "        vertical-align: middle;\n",
       "    }\n",
       "\n",
       "    .dataframe tbody tr th {\n",
       "        vertical-align: top;\n",
       "    }\n",
       "\n",
       "    .dataframe thead th {\n",
       "        text-align: right;\n",
       "    }\n",
       "</style>\n",
       "<table border=\"1\" class=\"dataframe\">\n",
       "  <thead>\n",
       "    <tr style=\"text-align: right;\">\n",
       "      <th></th>\n",
       "      <th>PA009</th>\n",
       "      <th>PA012</th>\n",
       "      <th>PA019</th>\n",
       "      <th>PA028</th>\n",
       "      <th>PA099</th>\n",
       "      <th>PA100</th>\n",
       "      <th>PA101</th>\n",
       "      <th>PA106</th>\n",
       "      <th>PA113</th>\n",
       "      <th>PVDATE</th>\n",
       "      <th>...</th>\n",
       "      <th>PJF478</th>\n",
       "      <th>PQR012</th>\n",
       "      <th>PQR010</th>\n",
       "      <th>PQR011</th>\n",
       "      <th>PJR478A</th>\n",
       "      <th>PF_CPL</th>\n",
       "      <th>PQ488_1A</th>\n",
       "      <th>PQ488_2A</th>\n",
       "      <th>PQ488_3A</th>\n",
       "      <th>COHORT</th>\n",
       "    </tr>\n",
       "  </thead>\n",
       "  <tbody>\n",
       "    <tr>\n",
       "      <td>0</td>\n",
       "      <td>1</td>\n",
       "      <td>1</td>\n",
       "      <td>76</td>\n",
       "      <td>5</td>\n",
       "      <td>0</td>\n",
       "      <td>0</td>\n",
       "      <td>0</td>\n",
       "      <td>0</td>\n",
       "      <td>0</td>\n",
       "      <td>3</td>\n",
       "      <td>...</td>\n",
       "      <td>1.0</td>\n",
       "      <td>5.0</td>\n",
       "      <td>5.0</td>\n",
       "      <td>5.0</td>\n",
       "      <td>1.0</td>\n",
       "      <td>0</td>\n",
       "      <td>0.0</td>\n",
       "      <td>0.0</td>\n",
       "      <td>0.0</td>\n",
       "      <td>3</td>\n",
       "    </tr>\n",
       "    <tr>\n",
       "      <td>1</td>\n",
       "      <td>1</td>\n",
       "      <td>1</td>\n",
       "      <td>60</td>\n",
       "      <td>5</td>\n",
       "      <td>0</td>\n",
       "      <td>0</td>\n",
       "      <td>0</td>\n",
       "      <td>0</td>\n",
       "      <td>0</td>\n",
       "      <td>2</td>\n",
       "      <td>...</td>\n",
       "      <td>1.0</td>\n",
       "      <td>5.0</td>\n",
       "      <td>5.0</td>\n",
       "      <td>5.0</td>\n",
       "      <td>1.0</td>\n",
       "      <td>0</td>\n",
       "      <td>NaN</td>\n",
       "      <td>0.0</td>\n",
       "      <td>0.0</td>\n",
       "      <td>3</td>\n",
       "    </tr>\n",
       "    <tr>\n",
       "      <td>2</td>\n",
       "      <td>1</td>\n",
       "      <td>1</td>\n",
       "      <td>70</td>\n",
       "      <td>5</td>\n",
       "      <td>0</td>\n",
       "      <td>2</td>\n",
       "      <td>2</td>\n",
       "      <td>2</td>\n",
       "      <td>4</td>\n",
       "      <td>3</td>\n",
       "      <td>...</td>\n",
       "      <td>1.0</td>\n",
       "      <td>5.0</td>\n",
       "      <td>5.0</td>\n",
       "      <td>5.0</td>\n",
       "      <td>1.0</td>\n",
       "      <td>0</td>\n",
       "      <td>0.0</td>\n",
       "      <td>0.0</td>\n",
       "      <td>0.0</td>\n",
       "      <td>3</td>\n",
       "    </tr>\n",
       "    <tr>\n",
       "      <td>3</td>\n",
       "      <td>1</td>\n",
       "      <td>1</td>\n",
       "      <td>68</td>\n",
       "      <td>5</td>\n",
       "      <td>0</td>\n",
       "      <td>1</td>\n",
       "      <td>1</td>\n",
       "      <td>1</td>\n",
       "      <td>2</td>\n",
       "      <td>2</td>\n",
       "      <td>...</td>\n",
       "      <td>1.0</td>\n",
       "      <td>5.0</td>\n",
       "      <td>5.0</td>\n",
       "      <td>5.0</td>\n",
       "      <td>1.0</td>\n",
       "      <td>0</td>\n",
       "      <td>0.0</td>\n",
       "      <td>0.0</td>\n",
       "      <td>0.0</td>\n",
       "      <td>3</td>\n",
       "    </tr>\n",
       "    <tr>\n",
       "      <td>4</td>\n",
       "      <td>1</td>\n",
       "      <td>1</td>\n",
       "      <td>79</td>\n",
       "      <td>5</td>\n",
       "      <td>0</td>\n",
       "      <td>2</td>\n",
       "      <td>2</td>\n",
       "      <td>2</td>\n",
       "      <td>4</td>\n",
       "      <td>2</td>\n",
       "      <td>...</td>\n",
       "      <td>1.0</td>\n",
       "      <td>5.0</td>\n",
       "      <td>5.0</td>\n",
       "      <td>5.0</td>\n",
       "      <td>1.0</td>\n",
       "      <td>1</td>\n",
       "      <td>0.0</td>\n",
       "      <td>0.0</td>\n",
       "      <td>0.0</td>\n",
       "      <td>3</td>\n",
       "    </tr>\n",
       "  </tbody>\n",
       "</table>\n",
       "<p>5 rows × 314 columns</p>\n",
       "</div>"
      ],
      "text/plain": [
       "   PA009  PA012  PA019  PA028  PA099  PA100  PA101  PA106  PA113  PVDATE  ...  \\\n",
       "0      1      1     76      5      0      0      0      0      0       3  ...   \n",
       "1      1      1     60      5      0      0      0      0      0       2  ...   \n",
       "2      1      1     70      5      0      2      2      2      4       3  ...   \n",
       "3      1      1     68      5      0      1      1      1      2       2  ...   \n",
       "4      1      1     79      5      0      2      2      2      4       2  ...   \n",
       "\n",
       "   PJF478  PQR012  PQR010  PQR011  PJR478A  PF_CPL  PQ488_1A  PQ488_2A  \\\n",
       "0     1.0     5.0     5.0     5.0      1.0       0       0.0       0.0   \n",
       "1     1.0     5.0     5.0     5.0      1.0       0       NaN       0.0   \n",
       "2     1.0     5.0     5.0     5.0      1.0       0       0.0       0.0   \n",
       "3     1.0     5.0     5.0     5.0      1.0       0       0.0       0.0   \n",
       "4     1.0     5.0     5.0     5.0      1.0       1       0.0       0.0   \n",
       "\n",
       "   PQ488_3A  COHORT  \n",
       "0       0.0       3  \n",
       "1       0.0       3  \n",
       "2       0.0       3  \n",
       "3       0.0       3  \n",
       "4       0.0       3  \n",
       "\n",
       "[5 rows x 314 columns]"
      ]
     },
     "execution_count": 4,
     "metadata": {},
     "output_type": "execute_result"
    }
   ],
   "source": [
    "X = df.drop('PW303', axis=1).copy()\n",
    "X.head()"
   ]
  },
  {
   "cell_type": "code",
   "execution_count": 5,
   "metadata": {},
   "outputs": [
    {
     "data": {
      "text/plain": [
       "0    0\n",
       "1    0\n",
       "2    1\n",
       "3    1\n",
       "4    1\n",
       "Name: PW303, dtype: int64"
      ]
     },
     "execution_count": 5,
     "metadata": {},
     "output_type": "execute_result"
    }
   ],
   "source": [
    "df['PW303'].replace({1:1, 5:0}, inplace=True)\n",
    "y = df['PW303'].copy()\n",
    "y.head()"
   ]
  },
  {
   "cell_type": "markdown",
   "metadata": {},
   "source": [
    "Now that we have created **X**, which has the data we want to use to make predictions, and **y**, which has the data we want to predict, we are ready to continue formatting **X** so that it is suitable for making a model with **XGBoost**."
   ]
  },
  {
   "cell_type": "markdown",
   "metadata": {},
   "source": [
    "----"
   ]
  },
  {
   "cell_type": "markdown",
   "metadata": {},
   "source": [
    "<a id=\"one-hot-encoding\"></a>\n",
    "# Treat Categorical Predictors: One-Hot Encoding\n"
   ]
  },
  {
   "cell_type": "code",
   "execution_count": 6,
   "metadata": {
    "scrolled": true
   },
   "outputs": [],
   "source": [
    "#note that this list has some columns that had zero variance that were removed already in X, so we need to find the intersection\n",
    "df1 = pd.read_csv('possible_categorical.csv')\n",
    "possible_categorical = df1['x'].tolist()\n",
    "#this is the list of categorical columns that will turn into dummies\n",
    "cat_col = list(set(possible_categorical).intersection(list(X)))"
   ]
  },
  {
   "cell_type": "code",
   "execution_count": 7,
   "metadata": {},
   "outputs": [
    {
     "data": {
      "text/html": [
       "<div>\n",
       "<style scoped>\n",
       "    .dataframe tbody tr th:only-of-type {\n",
       "        vertical-align: middle;\n",
       "    }\n",
       "\n",
       "    .dataframe tbody tr th {\n",
       "        vertical-align: top;\n",
       "    }\n",
       "\n",
       "    .dataframe thead th {\n",
       "        text-align: right;\n",
       "    }\n",
       "</style>\n",
       "<table border=\"1\" class=\"dataframe\">\n",
       "  <thead>\n",
       "    <tr style=\"text-align: right;\">\n",
       "      <th></th>\n",
       "      <th>PA019</th>\n",
       "      <th>PA100</th>\n",
       "      <th>PA101</th>\n",
       "      <th>PA106</th>\n",
       "      <th>PA113</th>\n",
       "      <th>PVDATE</th>\n",
       "      <th>PB132</th>\n",
       "      <th>PC139</th>\n",
       "      <th>PC229</th>\n",
       "      <th>PD182M1</th>\n",
       "      <th>...</th>\n",
       "      <th>PZ023_3.0</th>\n",
       "      <th>PZ023_4.0</th>\n",
       "      <th>PZ023_5.0</th>\n",
       "      <th>PZ023_6.0</th>\n",
       "      <th>PZ023_7.0</th>\n",
       "      <th>PN067_1.0</th>\n",
       "      <th>PN067_5.0</th>\n",
       "      <th>PC128_1.0</th>\n",
       "      <th>PC128_3.0</th>\n",
       "      <th>PC128_5.0</th>\n",
       "    </tr>\n",
       "  </thead>\n",
       "  <tbody>\n",
       "    <tr>\n",
       "      <td>0</td>\n",
       "      <td>76</td>\n",
       "      <td>0</td>\n",
       "      <td>0</td>\n",
       "      <td>0</td>\n",
       "      <td>0</td>\n",
       "      <td>3</td>\n",
       "      <td>8.0</td>\n",
       "      <td>140.0</td>\n",
       "      <td>0.0</td>\n",
       "      <td>17.0</td>\n",
       "      <td>...</td>\n",
       "      <td>1</td>\n",
       "      <td>0</td>\n",
       "      <td>0</td>\n",
       "      <td>0</td>\n",
       "      <td>0</td>\n",
       "      <td>0</td>\n",
       "      <td>1</td>\n",
       "      <td>0</td>\n",
       "      <td>0</td>\n",
       "      <td>1</td>\n",
       "    </tr>\n",
       "    <tr>\n",
       "      <td>1</td>\n",
       "      <td>60</td>\n",
       "      <td>0</td>\n",
       "      <td>0</td>\n",
       "      <td>0</td>\n",
       "      <td>0</td>\n",
       "      <td>2</td>\n",
       "      <td>0.0</td>\n",
       "      <td>190.0</td>\n",
       "      <td>3.0</td>\n",
       "      <td>1.0</td>\n",
       "      <td>...</td>\n",
       "      <td>1</td>\n",
       "      <td>0</td>\n",
       "      <td>0</td>\n",
       "      <td>0</td>\n",
       "      <td>0</td>\n",
       "      <td>0</td>\n",
       "      <td>1</td>\n",
       "      <td>0</td>\n",
       "      <td>0</td>\n",
       "      <td>1</td>\n",
       "    </tr>\n",
       "    <tr>\n",
       "      <td>2</td>\n",
       "      <td>70</td>\n",
       "      <td>2</td>\n",
       "      <td>2</td>\n",
       "      <td>2</td>\n",
       "      <td>4</td>\n",
       "      <td>3</td>\n",
       "      <td>9.0</td>\n",
       "      <td>150.0</td>\n",
       "      <td>0.0</td>\n",
       "      <td>19.0</td>\n",
       "      <td>...</td>\n",
       "      <td>1</td>\n",
       "      <td>0</td>\n",
       "      <td>0</td>\n",
       "      <td>0</td>\n",
       "      <td>0</td>\n",
       "      <td>1</td>\n",
       "      <td>0</td>\n",
       "      <td>1</td>\n",
       "      <td>0</td>\n",
       "      <td>0</td>\n",
       "    </tr>\n",
       "    <tr>\n",
       "      <td>3</td>\n",
       "      <td>68</td>\n",
       "      <td>1</td>\n",
       "      <td>1</td>\n",
       "      <td>1</td>\n",
       "      <td>2</td>\n",
       "      <td>2</td>\n",
       "      <td>6.0</td>\n",
       "      <td>131.0</td>\n",
       "      <td>0.0</td>\n",
       "      <td>16.0</td>\n",
       "      <td>...</td>\n",
       "      <td>1</td>\n",
       "      <td>0</td>\n",
       "      <td>0</td>\n",
       "      <td>0</td>\n",
       "      <td>0</td>\n",
       "      <td>0</td>\n",
       "      <td>1</td>\n",
       "      <td>0</td>\n",
       "      <td>0</td>\n",
       "      <td>1</td>\n",
       "    </tr>\n",
       "    <tr>\n",
       "      <td>4</td>\n",
       "      <td>79</td>\n",
       "      <td>2</td>\n",
       "      <td>2</td>\n",
       "      <td>2</td>\n",
       "      <td>4</td>\n",
       "      <td>2</td>\n",
       "      <td>8.0</td>\n",
       "      <td>160.0</td>\n",
       "      <td>0.0</td>\n",
       "      <td>4.0</td>\n",
       "      <td>...</td>\n",
       "      <td>1</td>\n",
       "      <td>0</td>\n",
       "      <td>0</td>\n",
       "      <td>0</td>\n",
       "      <td>0</td>\n",
       "      <td>0</td>\n",
       "      <td>1</td>\n",
       "      <td>1</td>\n",
       "      <td>0</td>\n",
       "      <td>0</td>\n",
       "    </tr>\n",
       "  </tbody>\n",
       "</table>\n",
       "<p>5 rows × 851 columns</p>\n",
       "</div>"
      ],
      "text/plain": [
       "   PA019  PA100  PA101  PA106  PA113  PVDATE  PB132  PC139  PC229  PD182M1  \\\n",
       "0     76      0      0      0      0       3    8.0  140.0    0.0     17.0   \n",
       "1     60      0      0      0      0       2    0.0  190.0    3.0      1.0   \n",
       "2     70      2      2      2      4       3    9.0  150.0    0.0     19.0   \n",
       "3     68      1      1      1      2       2    6.0  131.0    0.0     16.0   \n",
       "4     79      2      2      2      4       2    8.0  160.0    0.0      4.0   \n",
       "\n",
       "   ...  PZ023_3.0  PZ023_4.0  PZ023_5.0  PZ023_6.0  PZ023_7.0  PN067_1.0  \\\n",
       "0  ...          1          0          0          0          0          0   \n",
       "1  ...          1          0          0          0          0          0   \n",
       "2  ...          1          0          0          0          0          1   \n",
       "3  ...          1          0          0          0          0          0   \n",
       "4  ...          1          0          0          0          0          0   \n",
       "\n",
       "   PN067_5.0  PC128_1.0  PC128_3.0  PC128_5.0  \n",
       "0          1          0          0          1  \n",
       "1          1          0          0          1  \n",
       "2          0          1          0          0  \n",
       "3          1          0          0          1  \n",
       "4          1          1          0          0  \n",
       "\n",
       "[5 rows x 851 columns]"
      ]
     },
     "execution_count": 7,
     "metadata": {},
     "output_type": "execute_result"
    }
   ],
   "source": [
    "X_encoded = pd.get_dummies(X, columns = cat_col)\n",
    "X_encoded.head() #now we have categorical columns turned into dummies"
   ]
  },
  {
   "cell_type": "code",
   "execution_count": 7,
   "metadata": {},
   "outputs": [
    {
     "name": "stdout",
     "output_type": "stream",
     "text": [
      "We have 20738 observations and 851 predictors (including dummies).\n"
     ]
    }
   ],
   "source": [
    "print ('We have ' + str(len(X_encoded)) + ' observations and ' + str(len(X_encoded.columns)) + ' predictors (including dummies).')"
   ]
  },
  {
   "cell_type": "markdown",
   "metadata": {},
   "source": [
    "\n",
    "----"
   ]
  },
  {
   "cell_type": "markdown",
   "metadata": {},
   "source": [
    "<a id=\"build-tree\"></a>\n",
    "# Build A Preliminary XGBoost Model\n",
    "At long last, the data is correctly formatted for making an **XGBoost** model. Now we simply split the data into **training** and **testing** data sets and build the model. However, first, let's observe that this dataset is balanced."
   ]
  },
  {
   "cell_type": "code",
   "execution_count": 8,
   "metadata": {},
   "outputs": [
    {
     "data": {
      "text/plain": [
       "0.5692930851576815"
      ]
     },
     "execution_count": 8,
     "metadata": {},
     "output_type": "execute_result"
    }
   ],
   "source": [
    "sum(y)/len(y)"
   ]
  },
  {
   "cell_type": "markdown",
   "metadata": {},
   "source": [
    "We see that **56.9%** of the people in the dataset are internet users."
   ]
  },
  {
   "cell_type": "code",
   "execution_count": 9,
   "metadata": {},
   "outputs": [],
   "source": [
    "X_train, X_test, y_train, y_test = train_test_split(X_encoded, y, random_state=42)"
   ]
  },
  {
   "cell_type": "markdown",
   "metadata": {},
   "source": [
    "The train and test sets are also balanced."
   ]
  },
  {
   "cell_type": "code",
   "execution_count": 10,
   "metadata": {},
   "outputs": [
    {
     "data": {
      "text/plain": [
       "0.5719796823763904"
      ]
     },
     "execution_count": 10,
     "metadata": {},
     "output_type": "execute_result"
    }
   ],
   "source": [
    "sum(y_train)/len(y_train)"
   ]
  },
  {
   "cell_type": "code",
   "execution_count": 11,
   "metadata": {},
   "outputs": [
    {
     "data": {
      "text/plain": [
       "0.5612343297974928"
      ]
     },
     "execution_count": 11,
     "metadata": {},
     "output_type": "execute_result"
    }
   ],
   "source": [
    "sum(y_test)/len(y_test)"
   ]
  },
  {
   "cell_type": "markdown",
   "metadata": {},
   "source": [
    "**NOTE:** Instead of determining the optimal number of trees with cross validation, we will use **early stopping** to stop building trees when they no longer improve the situation."
   ]
  },
  {
   "cell_type": "code",
   "execution_count": 12,
   "metadata": {},
   "outputs": [
    {
     "name": "stderr",
     "output_type": "stream",
     "text": [
      "/Library/Frameworks/Python.framework/Versions/3.7/lib/python3.7/site-packages/xgboost/sklearn.py:892: UserWarning: The use of label encoder in XGBClassifier is deprecated and will be removed in a future release. To remove this warning, do the following: 1) Pass option use_label_encoder=False when constructing XGBClassifier object; and 2) Encode your labels (y) as integers starting with 0, i.e. 0, 1, 2, ..., [num_class - 1].\n",
      "  warnings.warn(label_encoder_deprecation_msg, UserWarning)\n"
     ]
    },
    {
     "name": "stdout",
     "output_type": "stream",
     "text": [
      "[0]\tvalidation_0-aucpr:0.85316\n",
      "[1]\tvalidation_0-aucpr:0.86764\n",
      "[2]\tvalidation_0-aucpr:0.87526\n",
      "[3]\tvalidation_0-aucpr:0.87967\n",
      "[4]\tvalidation_0-aucpr:0.88243\n",
      "[5]\tvalidation_0-aucpr:0.88642\n",
      "[6]\tvalidation_0-aucpr:0.88912\n",
      "[7]\tvalidation_0-aucpr:0.89061\n",
      "[8]\tvalidation_0-aucpr:0.89074\n",
      "[9]\tvalidation_0-aucpr:0.89194\n",
      "[10]\tvalidation_0-aucpr:0.89359\n",
      "[11]\tvalidation_0-aucpr:0.89358\n",
      "[12]\tvalidation_0-aucpr:0.89519\n",
      "[13]\tvalidation_0-aucpr:0.89556\n",
      "[14]\tvalidation_0-aucpr:0.89658\n",
      "[15]\tvalidation_0-aucpr:0.89638\n",
      "[16]\tvalidation_0-aucpr:0.89760\n",
      "[17]\tvalidation_0-aucpr:0.89787\n",
      "[18]\tvalidation_0-aucpr:0.89800\n",
      "[19]\tvalidation_0-aucpr:0.89834\n",
      "[20]\tvalidation_0-aucpr:0.89826\n",
      "[21]\tvalidation_0-aucpr:0.89872\n",
      "[22]\tvalidation_0-aucpr:0.89872\n",
      "[23]\tvalidation_0-aucpr:0.89817\n",
      "[24]\tvalidation_0-aucpr:0.89806\n",
      "[25]\tvalidation_0-aucpr:0.89730\n",
      "[26]\tvalidation_0-aucpr:0.89669\n",
      "[27]\tvalidation_0-aucpr:0.89702\n",
      "[28]\tvalidation_0-aucpr:0.89714\n",
      "[29]\tvalidation_0-aucpr:0.89668\n",
      "[30]\tvalidation_0-aucpr:0.89642\n",
      "[31]\tvalidation_0-aucpr:0.89637\n"
     ]
    },
    {
     "data": {
      "text/plain": [
       "XGBClassifier(base_score=0.5, booster='gbtree', colsample_bylevel=1,\n",
       "              colsample_bynode=1, colsample_bytree=1, gamma=0, gpu_id=-1,\n",
       "              importance_type='gain', interaction_constraints='',\n",
       "              learning_rate=0.300000012, max_delta_step=0, max_depth=6,\n",
       "              min_child_weight=1, missing=None, monotone_constraints='()',\n",
       "              n_estimators=100, n_jobs=4, num_parallel_tree=1, random_state=42,\n",
       "              reg_alpha=0, reg_lambda=1, scale_pos_weight=1, seed=42,\n",
       "              subsample=1, tree_method='exact', validate_parameters=1,\n",
       "              verbosity=None)"
      ]
     },
     "execution_count": 12,
     "metadata": {},
     "output_type": "execute_result"
    }
   ],
   "source": [
    "import sklearn\n",
    "clf_xgb = xgb.XGBClassifier(objective='binary:logistic', missing=None, seed=42)\n",
    "clf_xgb.fit(X_train, \n",
    "            y_train,\n",
    "            verbose=True,\n",
    "            ## the next three arguments set up early stopping.\n",
    "            early_stopping_rounds=10,\n",
    "            eval_metric='aucpr',\n",
    "            eval_set=[(X_test, y_test)])"
   ]
  },
  {
   "cell_type": "markdown",
   "metadata": {},
   "source": [
    "OK, we've built an **XGBoost** model for classification. Let's see how it performs on the **Testing Dataset** by running the **Testing Dataset** down the model and drawing a **Confusion Matrix**."
   ]
  },
  {
   "cell_type": "code",
   "execution_count": 15,
   "metadata": {},
   "outputs": [
    {
     "data": {
      "text/plain": [
       "<sklearn.metrics._plot.confusion_matrix.ConfusionMatrixDisplay at 0x7fdb94d8dcd0>"
      ]
     },
     "execution_count": 15,
     "metadata": {},
     "output_type": "execute_result"
    },
    {
     "data": {
      "image/png": "[encoded data removed]",
      "text/plain": [
       "<Figure size 432x288 with 2 Axes>"
      ]
     },
     "metadata": {
      "needs_background": "light"
     },
     "output_type": "display_data"
    }
   ],
   "source": [
    "plot_confusion_matrix(clf_xgb, \n",
    "                      X_test, \n",
    "                      y_test,\n",
    "                      values_format='d',\n",
    "                      display_labels=[\"Non-user\", \"User\"])"
   ]
  },
  {
   "cell_type": "code",
   "execution_count": 18,
   "metadata": {},
   "outputs": [
    {
     "name": "stdout",
     "output_type": "stream",
     "text": [
      "The out-of-sample prediction accuracy is 0.7959498553519768\n"
     ]
    }
   ],
   "source": [
    "a = (1673+2454)/(1673+2454+602+456)\n",
    "print ('The out-of-sample prediction accuracy is ' + str(a))"
   ]
  },
  {
   "cell_type": "markdown",
   "metadata": {},
   "source": [
    "Now we have a **XGBoost** model using only the default hyperparameters.\n"
   ]
  },
  {
   "cell_type": "markdown",
   "metadata": {},
   "source": [
    "----"
   ]
  },
  {
   "cell_type": "markdown",
   "metadata": {},
   "source": [
    "<a id=\"optimize-parameters\"></a>\n",
    "# Optimize Parameters using Cross Validation and GridSearch()\n",
    "\n",
    "**XGBoost** has a lot of *hyperparameters*, parameters that we have to manually configure and are not determined by **XGBoost** itself, including `max_depth`, the maximum tree depth, `learning_rate`, the learning rate, or \"eta\", `gamma`, the parameter that encourages pruning, and `reg_lambda`, the regularization parameter lambda. So let's try to find the optimal values for these hyperparameters in hopes that we can improve the accuracy with the **Testing Dataset**.\n",
    "\n",
    "**NOTE:** Since we have many hyperparameters to optimize, we will use `GridSearchCV()`. We specify a bunch of potential values for the hyperparameters and `GridSearchCV()` tests all possible combinations of the parameters for us."
   ]
  },
  {
   "cell_type": "code",
   "execution_count": 31,
   "metadata": {},
   "outputs": [],
   "source": [
    "# ROUND 1\n",
    "# param_grid = {\n",
    "#     'max_depth': [3, 4, 5],\n",
    "#     'learning_rate': [0.1, 0.01, 0.05],\n",
    "#     'gamma': [0, 0.25, 1.0],\n",
    "#     'reg_lambda': [0, 1.0, 10.0],\n",
    "# }\n",
    "# Output: 'gamma': 1.0, 'learning_rate': 0.1, 'max_depth': 4, 'reg_lambda': 1.0}\n",
    "# 45 minutes\n",
    "# max depth and reg_lambda look good\n",
    "# Because learning_rate and gamma were at the ends of their range, we will continue to explore those...\n",
    "\n",
    "## ROUND 2\n",
    "# param_grid = {\n",
    "#     'max_depth': [4],\n",
    "#     'learning_rate': [0.1, 0.5, 1],\n",
    "#     'gamma': [1.0, 3.0, 5.0, 10.0],\n",
    "#     'reg_lambda': [1.0, 5.0],\n",
    "# }\n",
    "# Output: {'gamma': 5.0, 'learning_rate': 0.1, 'max_depth': 4, 'reg_lambda': 1.0}\n",
    "\n",
    "# NOTE: To speed up cross validiation, and to further prevent overfitting.\n",
    "# We are only using a random subset of the data (90%) and are only\n",
    "# using a random subset of the features (columns) (50%) per tree.\n",
    "# optimal_params = GridSearchCV(\n",
    "#     estimator=xgb.XGBClassifier(objective='binary:logistic', \n",
    "#                                 seed=42,\n",
    "#                                 subsample=0.9,\n",
    "#                                 colsample_bytree=0.5),\n",
    "#     param_grid=param_grid,\n",
    "#     scoring='roc_auc', ## see https://scikit-learn.org/stable/modules/model_evaluation.html#scoring-parameter\n",
    "#     verbose=0, # NOTE: If you want to see what Grid Search is doing, set verbose=2\n",
    "#     n_jobs = 10,\n",
    "#     cv = 3\n",
    "# )\n",
    "\n",
    "# optimal_params.fit(X_train, \n",
    "#                    y_train, \n",
    "#                    early_stopping_rounds=10,                \n",
    "#                    eval_metric='auc',\n",
    "#                    eval_set=[(X_test, y_test)],\n",
    "#                    verbose=False)\n",
    "# print(optimal_params.best_params_)"
   ]
  },
  {
   "cell_type": "markdown",
   "metadata": {},
   "source": [
    "So, after testing all possible combinations of the potential parameter values with **Cross Validation**, we see that we should set `gamma=5.0`, `learn_rate=0.1`, `max_depth=4`, and `reg_lambda=1.0`."
   ]
  },
  {
   "cell_type": "markdown",
   "metadata": {},
   "source": [
    "----"
   ]
  },
  {
   "cell_type": "markdown",
   "metadata": {},
   "source": [
    "<a id=\"draw-tree\"></a>\n",
    "# Building, Evaluating, Drawing, and Interpreting the Optimized XGBoost Model\n",
    "\n",
    "Now that we have the ideal parameter values, we can build the final **XGBoost** model:"
   ]
  },
  {
   "cell_type": "code",
   "execution_count": 12,
   "metadata": {},
   "outputs": [
    {
     "name": "stdout",
     "output_type": "stream",
     "text": [
      "[18:04:07] WARNING: /Users/travis/build/dmlc/xgboost/src/learner.cc:541: \n",
      "Parameters: { learn_rate } might not be used.\n",
      "\n",
      "  This may not be accurate due to some parameters are only used in language bindings but\n",
      "  passed down to XGBoost core.  Or some parameters are not used but slip through this\n",
      "  verification. Please open an issue if you find above cases.\n",
      "\n",
      "\n",
      "[0]\tvalidation_0-aucpr:0.81488\n",
      "[1]\tvalidation_0-aucpr:0.85122\n",
      "[2]\tvalidation_0-aucpr:0.86764\n",
      "[3]\tvalidation_0-aucpr:0.87465\n",
      "[4]\tvalidation_0-aucpr:0.87996\n",
      "[5]\tvalidation_0-aucpr:0.88253\n",
      "[6]\tvalidation_0-aucpr:0.88409\n",
      "[7]\tvalidation_0-aucpr:0.88609\n",
      "[8]\tvalidation_0-aucpr:0.88799\n",
      "[9]\tvalidation_0-aucpr:0.89050\n",
      "[10]\tvalidation_0-aucpr:0.89218\n",
      "[11]\tvalidation_0-aucpr:0.89409\n",
      "[12]\tvalidation_0-aucpr:0.89496\n",
      "[13]\tvalidation_0-aucpr:0.89728\n",
      "[14]\tvalidation_0-aucpr:0.89799\n",
      "[15]\tvalidation_0-aucpr:0.89806\n",
      "[16]\tvalidation_0-aucpr:0.89804\n",
      "[17]\tvalidation_0-aucpr:0.89840\n",
      "[18]\tvalidation_0-aucpr:0.89882\n",
      "[19]\tvalidation_0-aucpr:0.89932\n",
      "[20]\tvalidation_0-aucpr:0.89947\n",
      "[21]\tvalidation_0-aucpr:0.89989\n",
      "[22]\tvalidation_0-aucpr:0.90021\n",
      "[23]\tvalidation_0-aucpr:0.90088\n",
      "[24]\tvalidation_0-aucpr:0.90071\n",
      "[25]\tvalidation_0-aucpr:0.90166\n",
      "[26]\tvalidation_0-aucpr:0.90185\n",
      "[27]\tvalidation_0-aucpr:0.90233\n",
      "[28]\tvalidation_0-aucpr:0.90229\n",
      "[29]\tvalidation_0-aucpr:0.90252\n",
      "[30]\tvalidation_0-aucpr:0.90204\n",
      "[31]\tvalidation_0-aucpr:0.90237\n",
      "[32]\tvalidation_0-aucpr:0.90230\n",
      "[33]\tvalidation_0-aucpr:0.90230\n",
      "[34]\tvalidation_0-aucpr:0.90207\n",
      "[35]\tvalidation_0-aucpr:0.90218\n",
      "[36]\tvalidation_0-aucpr:0.90245\n",
      "[37]\tvalidation_0-aucpr:0.90238\n",
      "[38]\tvalidation_0-aucpr:0.90223\n",
      "[39]\tvalidation_0-aucpr:0.90204\n"
     ]
    },
    {
     "data": {
      "text/plain": [
       "XGBClassifier(base_score=0.5, booster='gbtree', colsample_bylevel=1,\n",
       "              colsample_bynode=1, colsample_bytree=0.5, gamma=5.0, gpu_id=-1,\n",
       "              importance_type='gain', interaction_constraints='',\n",
       "              learn_rate=0.1, learning_rate=0.300000012, max_delta_step=0,\n",
       "              max_depth=4, min_child_weight=1, missing=nan,\n",
       "              monotone_constraints='()', n_estimators=100, n_jobs=4,\n",
       "              num_parallel_tree=1, random_state=42, reg_alpha=0, reg_lambda=1.0,\n",
       "              scale_pos_weight=1, seed=42, subsample=0.9, tree_method='exact',\n",
       "              validate_parameters=1, verbosity=None)"
      ]
     },
     "execution_count": 12,
     "metadata": {},
     "output_type": "execute_result"
    }
   ],
   "source": [
    "clf_xgb = xgb.XGBClassifier(seed=42,\n",
    "                        objective='binary:logistic',\n",
    "                        gamma=5.0,\n",
    "                        learn_rate=0.1,\n",
    "                        max_depth=4,\n",
    "                        reg_lambda=1.0,\n",
    "                        subsample=0.9,\n",
    "                        colsample_bytree=0.5)\n",
    "clf_xgb.fit(X_train, \n",
    "            y_train, \n",
    "            verbose=True, \n",
    "            early_stopping_rounds=10,\n",
    "            eval_metric='aucpr',\n",
    "            eval_set=[(X_test, y_test)])"
   ]
  },
  {
   "cell_type": "markdown",
   "metadata": {},
   "source": [
    "Now let's draw another confusion matrix to see if the optimized **XGBoost** model does better."
   ]
  },
  {
   "cell_type": "code",
   "execution_count": 14,
   "metadata": {},
   "outputs": [
    {
     "data": {
      "text/plain": [
       "<sklearn.metrics._plot.confusion_matrix.ConfusionMatrixDisplay at 0x7fd587554310>"
      ]
     },
     "execution_count": 14,
     "metadata": {},
     "output_type": "execute_result"
    },
    {
     "data": {
      "image/png": "[encoded data removed]",
      "text/plain": [
       "<Figure size 432x288 with 2 Axes>"
      ]
     },
     "metadata": {
      "needs_background": "light"
     },
     "output_type": "display_data"
    }
   ],
   "source": [
    "plot_confusion_matrix(clf_xgb, \n",
    "                      X_test, \n",
    "                      y_test,\n",
    "                      values_format='d',\n",
    "                      display_labels=[\"Non-user\", \"User\"])"
   ]
  },
  {
   "cell_type": "code",
   "execution_count": 16,
   "metadata": {},
   "outputs": [
    {
     "name": "stdout",
     "output_type": "stream",
     "text": [
      "The out-of-sample prediction accuracy is 0.8\n"
     ]
    }
   ],
   "source": [
    "b = (1672+2476)/(1672+2476+603+434)\n",
    "print ('The out-of-sample prediction accuracy is ' + str(b))"
   ]
  },
  {
   "cell_type": "code",
   "execution_count": 30,
   "metadata": {},
   "outputs": [
    {
     "data": {
      "text/plain": [
       "{'PD240_1.0': 558.32946576,\n",
       " 'PQR011_5.0': 412.56048599999997,\n",
       " 'PG040_5.0': 264.295520675,\n",
       " 'PP005': 207.9834083833333,\n",
       " 'PD186': 190.9516550666667,\n",
       " 'PNSSCORE': 157.67088203461537,\n",
       " 'PN164_5.0': 151.9371148,\n",
       " 'PQ162_5.0': 132.981506,\n",
       " 'PQ344_1.0': 115.31477866666667,\n",
       " 'PQ162_1.0': 111.774643,\n",
       " 'PQ370_1.0': 97.3352966,\n",
       " 'PD184': 95.7676359325,\n",
       " 'PP155': 95.10874337999999,\n",
       " 'PN164_1.0': 80.5428619,\n",
       " 'PP097_3.0': 74.6907282,\n",
       " 'PN098_2': 74.07551559999999,\n",
       " 'PG198_5.0': 71.15340975000001,\n",
       " 'PNSSCORESE': 69.2861538,\n",
       " 'PQ344_5.0': 66.24606332500001,\n",
       " 'PD176': 65.66795406499999,\n",
       " 'PA012_1': 56.2859383,\n",
       " 'P025_1.0': 54.3916206,\n",
       " 'PA019': 51.12395854999998,\n",
       " 'PG086_5.0': 51.0143566,\n",
       " 'PD240_5.0': 47.4589233,\n",
       " 'PN023': 45.62172795,\n",
       " 'PN067_5.0': 42.8066559,\n",
       " 'PC128_5.0': 39.741863275,\n",
       " 'PQ375_1.0': 39.1147041,\n",
       " 'PC128_1.0': 38.217050775000004,\n",
       " 'PTN05_5': 37.4606031,\n",
       " 'PQ453_5.0': 36.03468705,\n",
       " 'PX060_R_2': 35.15820791666666,\n",
       " 'PQR010_1.0': 33.8315849,\n",
       " 'PN098_1': 32.3994141,\n",
       " 'PQ426': 30.874217617777774,\n",
       " 'PB132': 30.19057766,\n",
       " 'PC225_4.0': 29.9043331,\n",
       " 'PG013': 29.75869179,\n",
       " 'PN208': 29.62083435,\n",
       " 'PD174': 28.302084154,\n",
       " 'PC095_4': 27.7520663,\n",
       " 'PC134_6.0': 26.3341904,\n",
       " 'PQ477_5.0': 26.327254677999996,\n",
       " 'PQR010_5.0': 25.4417381,\n",
       " 'PP097_2.0': 25.3239632,\n",
       " 'PX067_R': 23.840226295000004,\n",
       " 'PH150_1.0': 22.993972749999998,\n",
       " 'PQR012_5.0': 21.6742249,\n",
       " 'PG047_5.0': 21.29229831666667,\n",
       " 'PN295_1.0': 19.80859088,\n",
       " 'PC271_1.0': 19.66773415,\n",
       " 'PC273_5.0': 19.5047493,\n",
       " 'PC096_2.0': 19.159652066666666,\n",
       " 'PD111_1.0': 19.149518343333334,\n",
       " 'PD101_4.0': 18.8168049,\n",
       " 'PN147': 18.80913587,\n",
       " 'PH002_1.0': 18.8088837,\n",
       " 'PTN05_1': 18.3094069,\n",
       " 'PC291_5.0': 17.8876839,\n",
       " 'PQ316_1.0': 17.4208145,\n",
       " 'PC287_5.0': 16.738022816666668,\n",
       " 'PC096_1.0': 16.7209665875,\n",
       " 'PH100_1.0': 16.695133833333333,\n",
       " 'PX060_R_1': 16.540158898333335,\n",
       " 'PP185_1.0': 16.29850896,\n",
       " 'PQ483_1_1.0': 16.12882805,\n",
       " 'PH151_1.0': 16.0110207,\n",
       " 'PH002_4.0': 15.966285699999998,\n",
       " 'PE046': 15.682852433333332,\n",
       " 'PC097_2.0': 15.6111374,\n",
       " 'PH100_5.0': 15.600256,\n",
       " 'PC065_5.0': 15.212562550000001,\n",
       " 'PY008': 15.051303116000003,\n",
       " 'PH001_5.0': 14.697355103333335,\n",
       " 'PN291_5.0': 14.639236,\n",
       " 'PC097_1.0': 14.56283903,\n",
       " 'PP183': 14.238989683333335,\n",
       " 'PD170': 14.172225633333332,\n",
       " 'PQ370_5.0': 14.033011123333333,\n",
       " 'PQ417': 13.728789197142858,\n",
       " 'PC183_1': 13.6944122,\n",
       " 'PVDATE': 13.579819366666667,\n",
       " 'PQ464_5.0': 13.3132563,\n",
       " 'PA101': 13.3084507,\n",
       " 'PC291_1.0': 13.257452,\n",
       " 'PA098': 13.22169785,\n",
       " 'PLBRTYPE_2': 13.0741062,\n",
       " 'PY095': 13.0467901,\n",
       " 'PY096': 13.000542705714285,\n",
       " 'PX026M': 12.992310394285711,\n",
       " 'PN175_7.0': 12.936664903333332,\n",
       " 'PQ477_1.0': 12.863194,\n",
       " 'PC224_1.0': 12.8166904,\n",
       " 'PN211': 12.74944545,\n",
       " 'PT047_1': 12.5652313,\n",
       " 'PN256': 12.54099561,\n",
       " 'PX065_R_1.0': 12.5130987,\n",
       " 'PG086_1.0': 12.263646105,\n",
       " 'PC097_4.0': 12.2223072,\n",
       " 'PC110_1.0': 11.985991975000001,\n",
       " 'PD191_2.0': 11.9653587,\n",
       " 'PN202_5.0': 11.8036118,\n",
       " 'PP175': 11.78907347,\n",
       " 'PQ182_5.0': 11.7172518,\n",
       " 'PD108M1_1.0': 11.5700378,\n",
       " 'PY113': 11.466649607142857,\n",
       " 'PN001_5.0': 11.4486351,\n",
       " 'PT036_1.0': 11.4300871,\n",
       " 'PD182M1': 11.409810552,\n",
       " 'PY111': 11.341826066,\n",
       " 'PC096_4.0': 11.280207636666667,\n",
       " 'PC109_1.0': 11.2372904,\n",
       " 'PN202_1.0': 11.217330480000001,\n",
       " 'PN236_1': 10.9699697,\n",
       " 'PD142': 10.942440906,\n",
       " 'PD102_2.0': 10.910667425,\n",
       " 'PQ119_1.0': 10.8748627,\n",
       " 'PC139': 10.769560611428572,\n",
       " 'PN332_1.0': 10.625797275,\n",
       " 'PQ133_5.0': 10.5406275,\n",
       " 'PC095_2': 10.4719963,\n",
       " 'PJ677_6': 10.4608631,\n",
       " 'PZ270_4.0': 10.4601679,\n",
       " 'PE105_1.0': 10.36008026,\n",
       " 'PN134_1.0': 10.303026205,\n",
       " 'PN207': 10.25642874,\n",
       " 'PY107': 10.2279726275,\n",
       " 'PC147_1.0': 10.1379948,\n",
       " 'PZ041_3.0': 10.1311646,\n",
       " 'PD185': 10.1043539,\n",
       " 'PT001_1.0': 10.061644555,\n",
       " 'PZ043_1.0': 10.0182257,\n",
       " 'PE140_0.0': 10.0073376,\n",
       " 'PY006': 10.005878835999999,\n",
       " 'PD189_1.0': 9.99229622,\n",
       " 'PG101_1': 9.97668076,\n",
       " 'PZ009_R': 9.93975137,\n",
       " 'PE111_5.0': 9.90983129,\n",
       " 'PP097_1.0': 9.854420675,\n",
       " 'PN295_3.0': 9.824135545,\n",
       " 'PY102': 9.805142866666667,\n",
       " 'PZ066_R_3.0': 9.77990627,\n",
       " 'PZ267_2.0': 9.72399426,\n",
       " 'PG010_5.0': 9.70931244,\n",
       " 'PC289_3.0': 9.64414692,\n",
       " 'PC001_4.0': 9.58042908,\n",
       " 'PD182M3': 9.521878236666668,\n",
       " 'PC102_1.0': 9.421463975,\n",
       " 'PG008_6.0': 9.40905952,\n",
       " 'PC001_2.0': 9.373359205,\n",
       " 'PZ010_R': 9.33687401,\n",
       " 'PC086_3.0': 9.32793236,\n",
       " 'PQR011_1.0': 9.3179884,\n",
       " 'PN134_5.0': 9.30507374,\n",
       " 'PY100': 9.285162731428573,\n",
       " 'PC223_4.0': 9.25795078,\n",
       " 'PA113': 9.20084445,\n",
       " 'PQ421_1.0': 9.150684046666667,\n",
       " 'PC223_2.0': 9.10509872,\n",
       " 'PQ446_5.0': 9.102453386666667,\n",
       " 'P085': 9.086300135,\n",
       " 'PG059_5.0': 9.07892799,\n",
       " 'PZ246': 8.980176606666667,\n",
       " 'PY106': 8.926372712,\n",
       " 'PJ689_4': 8.9067297,\n",
       " 'PY115': 8.8631460675,\n",
       " 'PC288_1.0': 8.84076881,\n",
       " 'PZ267_1.0': 8.83783531,\n",
       " 'P025_3.0': 8.82002258,\n",
       " 'PC095_5': 8.81733131,\n",
       " 'PC095_1': 8.80056381,\n",
       " 'PY098': 8.740114066666665,\n",
       " 'PA102': 8.71482277,\n",
       " 'PC229': 8.579467300000001,\n",
       " 'PJ677_4': 8.57328033,\n",
       " 'PD115_5.0': 8.55257225,\n",
       " 'PD101_2.0': 8.542391295,\n",
       " 'PX083': 8.53853035,\n",
       " 'PN090_2': 8.46205521,\n",
       " 'PZ270_6.0': 8.45590496,\n",
       " 'PE140_3.0': 8.40847588,\n",
       " 'PC085_1.0': 8.39334106,\n",
       " 'PY007': 8.2819166175,\n",
       " 'PQ488_1A': 8.24978065,\n",
       " 'PG041_7.0': 8.19158363,\n",
       " 'PE120_2.0': 8.07954597,\n",
       " 'PC085_3.0': 8.0664444,\n",
       " 'PD182M2': 8.01612711,\n",
       " 'PQ446_1.0': 7.96914196,\n",
       " 'PA071_5.0': 7.87755632,\n",
       " 'PY005': 7.738827696666665,\n",
       " 'P017M1': 7.71814751,\n",
       " 'PZ051_2.0': 7.71721554,\n",
       " 'PG058_1.0': 7.699802634999999,\n",
       " 'P037_3.0': 7.69901848,\n",
       " 'PD104_21': 7.532696725,\n",
       " 'PC104_1.0': 7.52515602,\n",
       " 'PX004_R': 7.494482039999999,\n",
       " 'PLBELIG_1': 7.48982096,\n",
       " 'PG010_6.0': 7.4269309,\n",
       " 'PB082_2.0': 7.39254379,\n",
       " 'PC148_1.0': 7.35026836,\n",
       " 'PZ044_1.0': 7.33519173,\n",
       " 'PD183M1': 7.265858175,\n",
       " 'PC005_1.0': 7.23386049,\n",
       " 'PJ005M1_1.0': 7.1832571,\n",
       " 'PD143': 7.173156420000001,\n",
       " 'PZ267_3.0': 7.15363693,\n",
       " 'PX084': 7.115665753333334,\n",
       " 'P024_2.0': 7.11218691,\n",
       " 'PE118_1.0': 7.032979965,\n",
       " 'PC087_1.0': 7.03133774,\n",
       " 'PT011_5.0': 6.88044643,\n",
       " 'PC288_7.0': 6.76806068,\n",
       " 'PY114': 6.690986252,\n",
       " 'PC103_4.0': 6.66507339,\n",
       " 'PA100': 6.624000546666667,\n",
       " 'P022A_1.0': 6.61470652,\n",
       " 'PX007_R_4': 6.59920502,\n",
       " 'PC289_1.0': 6.424496175,\n",
       " 'PZ087_1.0': 6.3561039,\n",
       " 'PP047': 6.32592773,\n",
       " 'PC010_5.0': 6.30925369,\n",
       " 'PN007_1.0': 6.293933395,\n",
       " 'PP185_3.0': 6.27825737,\n",
       " 'PB000_2.0': 6.04711676,\n",
       " 'PN235_1.0': 6.03061438,\n",
       " 'PE105_5.0': 5.79008293,\n",
       " 'PF_CPL_0': 5.74111223,\n",
       " 'PB000_4.0': 5.68948555,\n",
       " 'P024_3.0': 5.58557606,\n",
       " 'PJ3707_1.0': 5.45128441,\n",
       " 'PC143_1.0': 5.23671675,\n",
       " 'PN209': 5.21045303,\n",
       " 'PD117_5.0': 5.03178978}"
      ]
     },
     "execution_count": 30,
     "metadata": {},
     "output_type": "execute_result"
    }
   ],
   "source": [
    "x = clf_xgb.get_booster().get_score(importance_type=\"gain\")\n",
    "dict(sorted(x.items(), key=lambda item: item[1], reverse=True))\n"
   ]
  },
  {
   "cell_type": "markdown",
   "metadata": {},
   "source": [
    "# Here are the top 15 important predictors:\n",
    "\n",
    "PD240_1.0: number series 2, 4, 6 - correct\n",
    "\n",
    "PQR011_5.0: who worked for pay last calendar year? (spouse, self, both?)\n",
    "\n",
    "PG040_5.0: have difficulty using a map - no\n",
    "\n",
    "PP005: what are the chances that you and your partner will leave an inheritance totaling $10,000 or more?\n",
    "\n",
    "PD186:  NUMBER FORGOTTEN - DELAYED\n",
    "\n",
    "\n",
    "PNSSCORE: The standard error of number series score\n",
    "\n",
    "PN164_5.0: in the last two year, have you seen a dentist for dental care, including dentures? - no\n",
    "\n",
    "PQ162_5.0: have money in IRA account?\n",
    "\n",
    "PQ344_1.0: have any checking or savings accounts or money market funds?\n",
    "\n",
    "PD184: NUMBER GOOD - DELAYED\n",
    "\n",
    "\n",
    "PP155: Number of percent range questions asked\n",
    "\n",
    "PN164_1.0: in the last two year, have you seen a dentist for dental care, including dentures? - yes\n",
    "\n",
    "PP097_3.0: How closely do you follow the stock market: very closely, somewhat, or not at all?\n",
    "\n",
    "PN098_2: R'S HEALTH INSURANCE PAYS PART OF PRESCRIPTION AND/OR DENTAL (not true)\n",
    "\n",
    "PG198_5.0: Have you spent any time in the past 12 months helping friends, neighbors, or relatives who did not live with you and did not pay you for the help?\n"
   ]
  },
  {
   "cell_type": "markdown",
   "metadata": {},
   "source": [
    "-----"
   ]
  },
  {
   "cell_type": "markdown",
   "metadata": {},
   "source": [
    "# In conclusion we...\n",
    "\n",
    "- **[Loaded the Data From a File](#download-the-data)**\n",
    "\n",
    "- **[Formatted the Data for XGBoost using One-Hot Encoding](#one-hot-encoding)**\n",
    "\n",
    "- **[Built an XGBoost Model for Classification](#build-tree)**\n",
    "\n",
    "- **[Optimize the XGBoost Parameters with Cross Validation and GridSearch()](#prune-tree)**\n",
    "\n",
    "- **[Built, Drew, Interpreted and Evaluated the Optimized XGBoost Model](#draw-tree)**"
   ]
  }
 ],
 "metadata": {
  "kernelspec": {
   "display_name": "Python 3",
   "language": "python",
   "name": "python3"
  },
  "language_info": {
   "codemirror_mode": {
    "name": "ipython",
    "version": 3
   },
   "file_extension": ".py",
   "mimetype": "text/x-python",
   "name": "python",
   "nbconvert_exporter": "python",
   "pygments_lexer": "ipython3",
   "version": "3.7.4"
  }
 },
 "nbformat": 4,
 "nbformat_minor": 4
}
